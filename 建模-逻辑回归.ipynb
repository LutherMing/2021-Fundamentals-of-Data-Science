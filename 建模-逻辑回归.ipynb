{
 "cells": [
  {
   "cell_type": "code",
   "execution_count": 2,
   "id": "a0ab8619",
   "metadata": {},
   "outputs": [],
   "source": [
    "import warnings\n",
    "warnings.filterwarnings(\"ignore\")\n",
    "import numpy as np\n",
    "import pandas as pd\n",
    "import matplotlib.pyplot as plt\n",
    "import statsmodels.formula.api as smf\n",
    "from sklearn.model_selection import train_test_split\n",
    "import seaborn as sns\n",
    "plt.style.use('ggplot')"
   ]
  },
  {
   "cell_type": "code",
   "execution_count": 3,
   "id": "cadea0a6",
   "metadata": {},
   "outputs": [],
   "source": [
    "# 声明使用 Seaborn 样式\n",
    "sns.set()\n",
    "# 有五种seaborn的绘图风格，它们分别是：darkgrid, whitegrid, dark, white, ticks。默认的主题是darkgrid。\n",
    "sns.set_style(\"whitegrid\")\n",
    "# 有四个预置的环境，按大小从小到大排列分别为：paper, notebook, talk, poster。其中，notebook是默认的。\n",
    "sns.set_context('notebook')\n",
    "# 中文字体设置-黑体\n",
    "plt.rcParams['font.sans-serif'] = ['Microsoft YaHei']\n",
    "# 解决保存图像是负号'-'显示为方块的问题\n",
    "plt.rcParams['axes.unicode_minus'] = False"
   ]
  },
  {
   "cell_type": "code",
   "execution_count": 4,
   "id": "d40dfce1",
   "metadata": {},
   "outputs": [],
   "source": [
    "label = pd.read_csv('train.csv')['isDefault']"
   ]
  },
  {
   "cell_type": "code",
   "execution_count": 5,
   "id": "b4f56c2b",
   "metadata": {},
   "outputs": [
    {
     "data": {
      "text/html": [
       "<div>\n",
       "<style scoped>\n",
       "    .dataframe tbody tr th:only-of-type {\n",
       "        vertical-align: middle;\n",
       "    }\n",
       "\n",
       "    .dataframe tbody tr th {\n",
       "        vertical-align: top;\n",
       "    }\n",
       "\n",
       "    .dataframe thead th {\n",
       "        text-align: right;\n",
       "    }\n",
       "</style>\n",
       "<table border=\"1\" class=\"dataframe\">\n",
       "  <thead>\n",
       "    <tr style=\"text-align: right;\">\n",
       "      <th></th>\n",
       "      <th>loanAmnt</th>\n",
       "      <th>term</th>\n",
       "      <th>subGrade</th>\n",
       "      <th>employmentTitle</th>\n",
       "      <th>employmentLength</th>\n",
       "      <th>annualIncome</th>\n",
       "      <th>postCode</th>\n",
       "      <th>regionCode</th>\n",
       "      <th>dti</th>\n",
       "      <th>delinquency_2years</th>\n",
       "      <th>...</th>\n",
       "      <th>19</th>\n",
       "      <th>20</th>\n",
       "      <th>21</th>\n",
       "      <th>22</th>\n",
       "      <th>pca1</th>\n",
       "      <th>pca2</th>\n",
       "      <th>pca3</th>\n",
       "      <th>pca4</th>\n",
       "      <th>pca5</th>\n",
       "      <th>pca6</th>\n",
       "    </tr>\n",
       "  </thead>\n",
       "  <tbody>\n",
       "    <tr>\n",
       "      <th>0</th>\n",
       "      <td>35000.0</td>\n",
       "      <td>5</td>\n",
       "      <td>52</td>\n",
       "      <td>320.0</td>\n",
       "      <td>2</td>\n",
       "      <td>110000.0</td>\n",
       "      <td>137.0</td>\n",
       "      <td>32</td>\n",
       "      <td>17.05</td>\n",
       "      <td>0.0</td>\n",
       "      <td>...</td>\n",
       "      <td>0.0</td>\n",
       "      <td>0.0</td>\n",
       "      <td>0.0</td>\n",
       "      <td>0.0</td>\n",
       "      <td>-4.595706</td>\n",
       "      <td>8.694916</td>\n",
       "      <td>-3.188366</td>\n",
       "      <td>-0.169579</td>\n",
       "      <td>2.479239</td>\n",
       "      <td>0.479253</td>\n",
       "    </tr>\n",
       "    <tr>\n",
       "      <th>1</th>\n",
       "      <td>18000.0</td>\n",
       "      <td>5</td>\n",
       "      <td>42</td>\n",
       "      <td>219843.0</td>\n",
       "      <td>5</td>\n",
       "      <td>46000.0</td>\n",
       "      <td>156.0</td>\n",
       "      <td>18</td>\n",
       "      <td>27.83</td>\n",
       "      <td>0.0</td>\n",
       "      <td>...</td>\n",
       "      <td>0.0</td>\n",
       "      <td>0.0</td>\n",
       "      <td>0.0</td>\n",
       "      <td>0.0</td>\n",
       "      <td>-4.937371</td>\n",
       "      <td>-4.775256</td>\n",
       "      <td>1.100548</td>\n",
       "      <td>3.090222</td>\n",
       "      <td>2.760321</td>\n",
       "      <td>1.048221</td>\n",
       "    </tr>\n",
       "    <tr>\n",
       "      <th>2</th>\n",
       "      <td>12000.0</td>\n",
       "      <td>5</td>\n",
       "      <td>43</td>\n",
       "      <td>31698.0</td>\n",
       "      <td>8</td>\n",
       "      <td>74000.0</td>\n",
       "      <td>337.0</td>\n",
       "      <td>14</td>\n",
       "      <td>22.77</td>\n",
       "      <td>0.0</td>\n",
       "      <td>...</td>\n",
       "      <td>0.0</td>\n",
       "      <td>0.0</td>\n",
       "      <td>0.0</td>\n",
       "      <td>0.0</td>\n",
       "      <td>-7.595630</td>\n",
       "      <td>9.302842</td>\n",
       "      <td>9.106804</td>\n",
       "      <td>-0.498371</td>\n",
       "      <td>-2.399446</td>\n",
       "      <td>-0.157931</td>\n",
       "    </tr>\n",
       "    <tr>\n",
       "      <th>3</th>\n",
       "      <td>11000.0</td>\n",
       "      <td>3</td>\n",
       "      <td>14</td>\n",
       "      <td>46854.0</td>\n",
       "      <td>10</td>\n",
       "      <td>118000.0</td>\n",
       "      <td>148.0</td>\n",
       "      <td>11</td>\n",
       "      <td>17.21</td>\n",
       "      <td>0.0</td>\n",
       "      <td>...</td>\n",
       "      <td>0.0</td>\n",
       "      <td>0.0</td>\n",
       "      <td>0.0</td>\n",
       "      <td>0.0</td>\n",
       "      <td>5.034018</td>\n",
       "      <td>1.387625</td>\n",
       "      <td>-9.329300</td>\n",
       "      <td>-1.161320</td>\n",
       "      <td>1.673193</td>\n",
       "      <td>-3.038974</td>\n",
       "    </tr>\n",
       "    <tr>\n",
       "      <th>4</th>\n",
       "      <td>3000.0</td>\n",
       "      <td>3</td>\n",
       "      <td>32</td>\n",
       "      <td>54.0</td>\n",
       "      <td>5</td>\n",
       "      <td>29000.0</td>\n",
       "      <td>301.0</td>\n",
       "      <td>21</td>\n",
       "      <td>32.16</td>\n",
       "      <td>0.0</td>\n",
       "      <td>...</td>\n",
       "      <td>1.0</td>\n",
       "      <td>0.0</td>\n",
       "      <td>0.0</td>\n",
       "      <td>0.0</td>\n",
       "      <td>1.427854</td>\n",
       "      <td>0.503294</td>\n",
       "      <td>2.673627</td>\n",
       "      <td>-1.574145</td>\n",
       "      <td>-5.189906</td>\n",
       "      <td>0.596302</td>\n",
       "    </tr>\n",
       "    <tr>\n",
       "      <th>...</th>\n",
       "      <td>...</td>\n",
       "      <td>...</td>\n",
       "      <td>...</td>\n",
       "      <td>...</td>\n",
       "      <td>...</td>\n",
       "      <td>...</td>\n",
       "      <td>...</td>\n",
       "      <td>...</td>\n",
       "      <td>...</td>\n",
       "      <td>...</td>\n",
       "      <td>...</td>\n",
       "      <td>...</td>\n",
       "      <td>...</td>\n",
       "      <td>...</td>\n",
       "      <td>...</td>\n",
       "      <td>...</td>\n",
       "      <td>...</td>\n",
       "      <td>...</td>\n",
       "      <td>...</td>\n",
       "      <td>...</td>\n",
       "      <td>...</td>\n",
       "    </tr>\n",
       "    <tr>\n",
       "      <th>799995</th>\n",
       "      <td>25000.0</td>\n",
       "      <td>3</td>\n",
       "      <td>34</td>\n",
       "      <td>2659.0</td>\n",
       "      <td>7</td>\n",
       "      <td>72000.0</td>\n",
       "      <td>242.0</td>\n",
       "      <td>8</td>\n",
       "      <td>19.03</td>\n",
       "      <td>0.0</td>\n",
       "      <td>...</td>\n",
       "      <td>0.0</td>\n",
       "      <td>0.0</td>\n",
       "      <td>0.0</td>\n",
       "      <td>0.0</td>\n",
       "      <td>-4.011804</td>\n",
       "      <td>-12.717511</td>\n",
       "      <td>3.177589</td>\n",
       "      <td>-1.372134</td>\n",
       "      <td>-1.961407</td>\n",
       "      <td>-0.117767</td>\n",
       "    </tr>\n",
       "    <tr>\n",
       "      <th>799996</th>\n",
       "      <td>17000.0</td>\n",
       "      <td>3</td>\n",
       "      <td>14</td>\n",
       "      <td>29205.0</td>\n",
       "      <td>10</td>\n",
       "      <td>99000.0</td>\n",
       "      <td>563.0</td>\n",
       "      <td>10</td>\n",
       "      <td>15.72</td>\n",
       "      <td>1.0</td>\n",
       "      <td>...</td>\n",
       "      <td>0.0</td>\n",
       "      <td>0.0</td>\n",
       "      <td>0.0</td>\n",
       "      <td>0.0</td>\n",
       "      <td>9.584216</td>\n",
       "      <td>17.610358</td>\n",
       "      <td>-7.858493</td>\n",
       "      <td>-2.278297</td>\n",
       "      <td>3.161470</td>\n",
       "      <td>-2.628877</td>\n",
       "    </tr>\n",
       "    <tr>\n",
       "      <th>799997</th>\n",
       "      <td>6000.0</td>\n",
       "      <td>3</td>\n",
       "      <td>33</td>\n",
       "      <td>2582.0</td>\n",
       "      <td>10</td>\n",
       "      <td>65000.0</td>\n",
       "      <td>47.0</td>\n",
       "      <td>17</td>\n",
       "      <td>12.11</td>\n",
       "      <td>1.0</td>\n",
       "      <td>...</td>\n",
       "      <td>0.0</td>\n",
       "      <td>0.0</td>\n",
       "      <td>0.0</td>\n",
       "      <td>0.0</td>\n",
       "      <td>-1.109531</td>\n",
       "      <td>15.109610</td>\n",
       "      <td>0.586191</td>\n",
       "      <td>-7.238320</td>\n",
       "      <td>-1.920056</td>\n",
       "      <td>1.976286</td>\n",
       "    </tr>\n",
       "    <tr>\n",
       "      <th>799998</th>\n",
       "      <td>19200.0</td>\n",
       "      <td>3</td>\n",
       "      <td>14</td>\n",
       "      <td>151.0</td>\n",
       "      <td>10</td>\n",
       "      <td>96000.0</td>\n",
       "      <td>34.0</td>\n",
       "      <td>18</td>\n",
       "      <td>29.25</td>\n",
       "      <td>0.0</td>\n",
       "      <td>...</td>\n",
       "      <td>0.0</td>\n",
       "      <td>0.0</td>\n",
       "      <td>0.0</td>\n",
       "      <td>0.0</td>\n",
       "      <td>16.639183</td>\n",
       "      <td>0.088650</td>\n",
       "      <td>0.520932</td>\n",
       "      <td>-0.935709</td>\n",
       "      <td>-0.968637</td>\n",
       "      <td>0.953337</td>\n",
       "    </tr>\n",
       "    <tr>\n",
       "      <th>799999</th>\n",
       "      <td>9000.0</td>\n",
       "      <td>3</td>\n",
       "      <td>23</td>\n",
       "      <td>13.0</td>\n",
       "      <td>5</td>\n",
       "      <td>120000.0</td>\n",
       "      <td>62.0</td>\n",
       "      <td>13</td>\n",
       "      <td>8.99</td>\n",
       "      <td>0.0</td>\n",
       "      <td>...</td>\n",
       "      <td>0.0</td>\n",
       "      <td>0.0</td>\n",
       "      <td>0.0</td>\n",
       "      <td>0.0</td>\n",
       "      <td>-17.269370</td>\n",
       "      <td>0.670056</td>\n",
       "      <td>0.132414</td>\n",
       "      <td>0.983831</td>\n",
       "      <td>-1.482817</td>\n",
       "      <td>-0.302824</td>\n",
       "    </tr>\n",
       "  </tbody>\n",
       "</table>\n",
       "<p>800000 rows × 55 columns</p>\n",
       "</div>"
      ],
      "text/plain": [
       "        loanAmnt  term  subGrade  employmentTitle  employmentLength  \\\n",
       "0        35000.0     5        52            320.0                 2   \n",
       "1        18000.0     5        42         219843.0                 5   \n",
       "2        12000.0     5        43          31698.0                 8   \n",
       "3        11000.0     3        14          46854.0                10   \n",
       "4         3000.0     3        32             54.0                 5   \n",
       "...          ...   ...       ...              ...               ...   \n",
       "799995   25000.0     3        34           2659.0                 7   \n",
       "799996   17000.0     3        14          29205.0                10   \n",
       "799997    6000.0     3        33           2582.0                10   \n",
       "799998   19200.0     3        14            151.0                10   \n",
       "799999    9000.0     3        23             13.0                 5   \n",
       "\n",
       "        annualIncome  postCode  regionCode    dti  delinquency_2years  ...  \\\n",
       "0           110000.0     137.0          32  17.05                 0.0  ...   \n",
       "1            46000.0     156.0          18  27.83                 0.0  ...   \n",
       "2            74000.0     337.0          14  22.77                 0.0  ...   \n",
       "3           118000.0     148.0          11  17.21                 0.0  ...   \n",
       "4            29000.0     301.0          21  32.16                 0.0  ...   \n",
       "...              ...       ...         ...    ...                 ...  ...   \n",
       "799995       72000.0     242.0           8  19.03                 0.0  ...   \n",
       "799996       99000.0     563.0          10  15.72                 1.0  ...   \n",
       "799997       65000.0      47.0          17  12.11                 1.0  ...   \n",
       "799998       96000.0      34.0          18  29.25                 0.0  ...   \n",
       "799999      120000.0      62.0          13   8.99                 0.0  ...   \n",
       "\n",
       "         19   20   21   22       pca1       pca2      pca3      pca4  \\\n",
       "0       0.0  0.0  0.0  0.0  -4.595706   8.694916 -3.188366 -0.169579   \n",
       "1       0.0  0.0  0.0  0.0  -4.937371  -4.775256  1.100548  3.090222   \n",
       "2       0.0  0.0  0.0  0.0  -7.595630   9.302842  9.106804 -0.498371   \n",
       "3       0.0  0.0  0.0  0.0   5.034018   1.387625 -9.329300 -1.161320   \n",
       "4       1.0  0.0  0.0  0.0   1.427854   0.503294  2.673627 -1.574145   \n",
       "...     ...  ...  ...  ...        ...        ...       ...       ...   \n",
       "799995  0.0  0.0  0.0  0.0  -4.011804 -12.717511  3.177589 -1.372134   \n",
       "799996  0.0  0.0  0.0  0.0   9.584216  17.610358 -7.858493 -2.278297   \n",
       "799997  0.0  0.0  0.0  0.0  -1.109531  15.109610  0.586191 -7.238320   \n",
       "799998  0.0  0.0  0.0  0.0  16.639183   0.088650  0.520932 -0.935709   \n",
       "799999  0.0  0.0  0.0  0.0 -17.269370   0.670056  0.132414  0.983831   \n",
       "\n",
       "            pca5      pca6  \n",
       "0       2.479239  0.479253  \n",
       "1       2.760321  1.048221  \n",
       "2      -2.399446 -0.157931  \n",
       "3       1.673193 -3.038974  \n",
       "4      -5.189906  0.596302  \n",
       "...          ...       ...  \n",
       "799995 -1.961407 -0.117767  \n",
       "799996  3.161470 -2.628877  \n",
       "799997 -1.920056  1.976286  \n",
       "799998 -0.968637  0.953337  \n",
       "799999 -1.482817 -0.302824  \n",
       "\n",
       "[800000 rows x 55 columns]"
      ]
     },
     "execution_count": 5,
     "metadata": {},
     "output_type": "execute_result"
    }
   ],
   "source": [
    "train_clean=pd.read_csv('train_clean.csv')#读取清洗过的数据\n",
    "train_clean"
   ]
  },
  {
   "cell_type": "raw",
   "id": "465c3b03",
   "metadata": {},
   "source": [
    "oh_df=pd.read_excel('temp.xlsx',sheet_name='Sheet3').iloc[:,1:]\n",
    "oh_map=dict(zip(oh_df.iloc[:,1].astype(str),oh_df.iloc[:,0]))\n",
    "oh_map"
   ]
  },
  {
   "cell_type": "code",
   "execution_count": 31,
   "id": "0d23be80",
   "metadata": {
    "collapsed": true
   },
   "outputs": [
    {
     "ename": "TypeError",
     "evalue": "argument of type 'builtin_function_or_method' is not iterable",
     "output_type": "error",
     "traceback": [
      "\u001b[1;31m---------------------------------------------------------------------------\u001b[0m",
      "\u001b[1;31mTypeError\u001b[0m                                 Traceback (most recent call last)",
      "\u001b[1;32m<ipython-input-31-5ee6ca51aa93>\u001b[0m in \u001b[0;36m<module>\u001b[1;34m\u001b[0m\n\u001b[0;32m      5\u001b[0m         \u001b[1;32mreturn\u001b[0m \u001b[0mx\u001b[0m\u001b[1;33m\u001b[0m\u001b[1;33m\u001b[0m\u001b[0m\n\u001b[0;32m      6\u001b[0m \u001b[0mnew_col\u001b[0m\u001b[1;33m=\u001b[0m\u001b[0mmap\u001b[0m\u001b[1;33m(\u001b[0m\u001b[0mf\u001b[0m\u001b[1;33m,\u001b[0m\u001b[0mlist\u001b[0m\u001b[1;33m(\u001b[0m\u001b[0mtrain_clean\u001b[0m\u001b[1;33m.\u001b[0m\u001b[0mcolumns\u001b[0m\u001b[1;33m)\u001b[0m\u001b[1;33m)\u001b[0m\u001b[1;33m\u001b[0m\u001b[1;33m\u001b[0m\u001b[0m\n\u001b[1;32m----> 7\u001b[1;33m \u001b[0mprint\u001b[0m\u001b[1;33m(\u001b[0m\u001b[0mlist\u001b[0m\u001b[1;33m(\u001b[0m\u001b[0mnew_col\u001b[0m\u001b[1;33m)\u001b[0m\u001b[1;33m)\u001b[0m\u001b[1;33m\u001b[0m\u001b[1;33m\u001b[0m\u001b[0m\n\u001b[0m",
      "\u001b[1;32m<ipython-input-31-5ee6ca51aa93>\u001b[0m in \u001b[0;36mf\u001b[1;34m(x)\u001b[0m\n\u001b[0;32m      1\u001b[0m \u001b[1;32mdef\u001b[0m \u001b[0mf\u001b[0m\u001b[1;33m(\u001b[0m\u001b[0mx\u001b[0m\u001b[1;33m)\u001b[0m\u001b[1;33m:\u001b[0m\u001b[1;33m\u001b[0m\u001b[1;33m\u001b[0m\u001b[0m\n\u001b[1;32m----> 2\u001b[1;33m     \u001b[1;32mif\u001b[0m \u001b[0mx\u001b[0m \u001b[1;32min\u001b[0m \u001b[0moh_map\u001b[0m\u001b[1;33m.\u001b[0m\u001b[0mkeys\u001b[0m\u001b[1;33m:\u001b[0m\u001b[1;33m\u001b[0m\u001b[1;33m\u001b[0m\u001b[0m\n\u001b[0m\u001b[0;32m      3\u001b[0m         \u001b[1;32mreturn\u001b[0m \u001b[0moh_map\u001b[0m\u001b[1;33m[\u001b[0m\u001b[0mx\u001b[0m\u001b[1;33m]\u001b[0m\u001b[1;33m\u001b[0m\u001b[1;33m\u001b[0m\u001b[0m\n\u001b[0;32m      4\u001b[0m     \u001b[1;32melse\u001b[0m\u001b[1;33m:\u001b[0m\u001b[1;33m\u001b[0m\u001b[1;33m\u001b[0m\u001b[0m\n\u001b[0;32m      5\u001b[0m         \u001b[1;32mreturn\u001b[0m \u001b[0mx\u001b[0m\u001b[1;33m\u001b[0m\u001b[1;33m\u001b[0m\u001b[0m\n",
      "\u001b[1;31mTypeError\u001b[0m: argument of type 'builtin_function_or_method' is not iterable"
     ]
    }
   ],
   "source": [
    "def f(x):\n",
    "    if x in oh_map.keys:\n",
    "        return oh_map[x]\n",
    "    else:\n",
    "        return x\n",
    "new_col=map(f,list(train_clean.columns))\n",
    "print(list(new_col))"
   ]
  },
  {
   "cell_type": "code",
   "execution_count": 34,
   "id": "ff453a67",
   "metadata": {},
   "outputs": [
    {
     "data": {
      "text/plain": [
       "Index(['loanAmnt', 'term', 'subGrade', 'employmentTitle', 'employmentLength',\n",
       "       'annualIncome', 'postCode', 'regionCode', 'dti', 'delinquency_2years',\n",
       "       'ficoRangeHigh', 'pubRec', 'pubRecBankruptcies', 'revolBal',\n",
       "       'revolUtil', 'initialListStatus', 'applicationType', 'title',\n",
       "       'policyCode', 'n0', 'n6', 'n11', 'n12', 'n13', 'n14', 'CreditLine', '0',\n",
       "       '1', '2', '3', '4', '5', '6', '7', '8', '9', '10', '11', '12', '13',\n",
       "       '14', '15', '16', '17', '18', '19', '20', '21', '22', 'pca1', 'pca2',\n",
       "       'pca3', 'pca4', 'pca5', 'pca6'],\n",
       "      dtype='object')"
      ]
     },
     "execution_count": 34,
     "metadata": {},
     "output_type": "execute_result"
    }
   ],
   "source": [
    "train_clean.columns"
   ]
  },
  {
   "cell_type": "code",
   "execution_count": 55,
   "id": "c2ee6c31",
   "metadata": {},
   "outputs": [
    {
     "data": {
      "text/html": [
       "<div>\n",
       "<style scoped>\n",
       "    .dataframe tbody tr th:only-of-type {\n",
       "        vertical-align: middle;\n",
       "    }\n",
       "\n",
       "    .dataframe tbody tr th {\n",
       "        vertical-align: top;\n",
       "    }\n",
       "\n",
       "    .dataframe thead th {\n",
       "        text-align: right;\n",
       "    }\n",
       "</style>\n",
       "<table border=\"1\" class=\"dataframe\">\n",
       "  <thead>\n",
       "    <tr style=\"text-align: right;\">\n",
       "      <th></th>\n",
       "      <th>homeOwnership</th>\n",
       "      <th>verificationStatus</th>\n",
       "      <th>purpose</th>\n",
       "    </tr>\n",
       "  </thead>\n",
       "  <tbody>\n",
       "    <tr>\n",
       "      <th>0</th>\n",
       "      <td>2</td>\n",
       "      <td>2</td>\n",
       "      <td>1</td>\n",
       "    </tr>\n",
       "    <tr>\n",
       "      <th>1</th>\n",
       "      <td>0</td>\n",
       "      <td>2</td>\n",
       "      <td>0</td>\n",
       "    </tr>\n",
       "    <tr>\n",
       "      <th>2</th>\n",
       "      <td>0</td>\n",
       "      <td>2</td>\n",
       "      <td>0</td>\n",
       "    </tr>\n",
       "    <tr>\n",
       "      <th>3</th>\n",
       "      <td>1</td>\n",
       "      <td>1</td>\n",
       "      <td>4</td>\n",
       "    </tr>\n",
       "    <tr>\n",
       "      <th>4</th>\n",
       "      <td>1</td>\n",
       "      <td>2</td>\n",
       "      <td>10</td>\n",
       "    </tr>\n",
       "    <tr>\n",
       "      <th>...</th>\n",
       "      <td>...</td>\n",
       "      <td>...</td>\n",
       "      <td>...</td>\n",
       "    </tr>\n",
       "    <tr>\n",
       "      <th>799995</th>\n",
       "      <td>1</td>\n",
       "      <td>0</td>\n",
       "      <td>0</td>\n",
       "    </tr>\n",
       "    <tr>\n",
       "      <th>799996</th>\n",
       "      <td>0</td>\n",
       "      <td>2</td>\n",
       "      <td>4</td>\n",
       "    </tr>\n",
       "    <tr>\n",
       "      <th>799997</th>\n",
       "      <td>1</td>\n",
       "      <td>2</td>\n",
       "      <td>0</td>\n",
       "    </tr>\n",
       "    <tr>\n",
       "      <th>799998</th>\n",
       "      <td>0</td>\n",
       "      <td>2</td>\n",
       "      <td>4</td>\n",
       "    </tr>\n",
       "    <tr>\n",
       "      <th>799999</th>\n",
       "      <td>0</td>\n",
       "      <td>0</td>\n",
       "      <td>4</td>\n",
       "    </tr>\n",
       "  </tbody>\n",
       "</table>\n",
       "<p>800000 rows × 3 columns</p>\n",
       "</div>"
      ],
      "text/plain": [
       "        homeOwnership  verificationStatus  purpose\n",
       "0                   2                   2        1\n",
       "1                   0                   2        0\n",
       "2                   0                   2        0\n",
       "3                   1                   1        4\n",
       "4                   1                   2       10\n",
       "...               ...                 ...      ...\n",
       "799995              1                   0        0\n",
       "799996              0                   2        4\n",
       "799997              1                   2        0\n",
       "799998              0                   2        4\n",
       "799999              0                   0        4\n",
       "\n",
       "[800000 rows x 3 columns]"
      ]
     },
     "execution_count": 55,
     "metadata": {},
     "output_type": "execute_result"
    }
   ],
   "source": [
    "oh_col=['homeOwnership','verificationStatus','purpose']\n",
    "train=pd.read_csv('train.csv').loc[:,oh_col]\n",
    "train"
   ]
  },
  {
   "cell_type": "markdown",
   "id": "0c501534",
   "metadata": {},
   "source": [
    "# Logistics Regression"
   ]
  },
  {
   "cell_type": "code",
   "execution_count": 6,
   "id": "39d06531",
   "metadata": {},
   "outputs": [],
   "source": [
    "import numpy as np\n",
    "from sklearn import linear_model, datasets\n",
    "from sklearn.model_selection import train_test_split\n",
    "#from sklearn.cross_validation import train_test_split会报错，\n",
    "#原因在于这个cross_validatio这个包早就不在使用了，划分到了model_selection这个包中。"
   ]
  },
  {
   "cell_type": "markdown",
   "id": "1d69fd52",
   "metadata": {},
   "source": [
    "## 拟合"
   ]
  },
  {
   "cell_type": "code",
   "execution_count": 7,
   "id": "cb65219e",
   "metadata": {},
   "outputs": [],
   "source": [
    "# 1.加载数据\n",
    "iris = datasets.load_iris()\n",
    "X = train_clean\n",
    "Y = label\n",
    "\n",
    "# 2.拆分测试集、训练集。\n",
    "X_train, X_test, Y_train, Y_test = train_test_split(X, Y, test_size=0.3, random_state=0)# 设置随机数种子，以便比较结果。"
   ]
  },
  {
   "cell_type": "code",
   "execution_count": 8,
   "id": "8f9db0fb",
   "metadata": {},
   "outputs": [],
   "source": [
    "# 3.标准化特征值\n",
    "from sklearn.preprocessing import StandardScaler\n",
    "sc = StandardScaler()\n",
    "sc.fit(X_train)\n",
    "X_train_std = sc.transform(X_train)\n",
    "X_test_std = sc.transform(X_test)"
   ]
  },
  {
   "cell_type": "code",
   "execution_count": 9,
   "id": "3af40326",
   "metadata": {},
   "outputs": [
    {
     "data": {
      "text/plain": [
       "LogisticRegression(C=0.01, penalty='l1', solver='liblinear')"
      ]
     },
     "execution_count": 9,
     "metadata": {},
     "output_type": "execute_result"
    }
   ],
   "source": [
    "# 4. 训练逻辑回归模型\n",
    "logreg = linear_model.LogisticRegression(C = 0.01, penalty = 'l1',solver='liblinear')\n",
    "logreg.fit(X_train, Y_train)"
   ]
  },
  {
   "cell_type": "markdown",
   "id": "6494f95b",
   "metadata": {},
   "source": [
    "## 正则化惩罚力度"
   ]
  },
  {
   "cell_type": "code",
   "execution_count": 10,
   "id": "f45dc249",
   "metadata": {},
   "outputs": [],
   "source": [
    "from sklearn.linear_model import LogisticRegression\n",
    "from sklearn.model_selection import KFold, cross_val_score\n",
    "from sklearn.metrics import confusion_matrix,precision_recall_curve,auc,roc_auc_score,roc_curve,recall_score,classification_report\n",
    "\n",
    "#Recall = TP/(TP+FN)\n",
    "from sklearn.linear_model import LogisticRegression\n",
    "# from sklearn.cross_validation import KFold, cross_val_score\n",
    "from sklearn.metrics import confusion_matrix,recall_score,classification_report\n",
    "from sklearn.model_selection import cross_val_predict, KFold, cross_val_score"
   ]
  },
  {
   "cell_type": "code",
   "execution_count": null,
   "id": "d0fde1cc",
   "metadata": {},
   "outputs": [],
   "source": []
  },
  {
   "cell_type": "markdown",
   "id": "970bc9f2",
   "metadata": {},
   "source": [
    "## 阈值"
   ]
  },
  {
   "cell_type": "code",
   "execution_count": 11,
   "id": "a1afe465",
   "metadata": {},
   "outputs": [],
   "source": [
    "# 5. 预测\n",
    "prepro = logreg.predict_proba(X_test_std)"
   ]
  },
  {
   "cell_type": "code",
   "execution_count": 12,
   "id": "dd0af28a",
   "metadata": {},
   "outputs": [
    {
     "data": {
      "text/plain": [
       "0.5681892857142857"
      ]
     },
     "execution_count": 12,
     "metadata": {},
     "output_type": "execute_result"
    }
   ],
   "source": [
    "logreg.score(X_train_std,Y_train)#训练集得分"
   ]
  },
  {
   "cell_type": "code",
   "execution_count": 13,
   "id": "ee6e2f68",
   "metadata": {},
   "outputs": [],
   "source": [
    "def plot_confusion_matrix(cm, classes,\n",
    "                              title='Confusion matrix',\n",
    "                              cmap=plt.cm.Blues):\n",
    "        \"\"\"\n",
    "        绘制混淆矩阵\n",
    "        \"\"\"\n",
    "        plt.imshow(cm, interpolation='nearest', cmap=cmap)\n",
    "        plt.title(title)\n",
    "        plt.colorbar()\n",
    "        tick_marks = np.arange(len(classes))\n",
    "        plt.xticks(tick_marks, classes, rotation=0)\n",
    "        plt.yticks(tick_marks, classes)\n",
    "\n",
    "        thresh = cm.max() / 2.\n",
    "        for i, j in itertools.product(range(cm.shape[0]), range(cm.shape[1])):\n",
    "            plt.text(j, i, cm[i, j],\n",
    "                     horizontalalignment=\"center\",\n",
    "                     color=\"white\" if cm[i, j] > thresh else \"black\")\n",
    "\n",
    "        plt.tight_layout()\n",
    "        plt.ylabel('True label')\n",
    "        plt.xlabel('Predicted label')"
   ]
  },
  {
   "cell_type": "code",
   "execution_count": 40,
   "id": "267a4b92",
   "metadata": {},
   "outputs": [
    {
     "name": "stdout",
     "output_type": "stream",
     "text": [
      "给定阈值为: 0.1\n",
      "正确率 0.20028333333333334\n",
      "精准率 0.20028333333333334\n",
      "召回率 1.0\n",
      "调和平均值F1 0.33372675895969006\n",
      "给定阈值为: 0.2\n",
      "正确率 0.20028333333333334\n",
      "精准率 0.20028333333333334\n",
      "召回率 1.0\n",
      "调和平均值F1 0.33372675895969006\n",
      "给定阈值为: 0.3\n",
      "正确率 0.21456666666666666\n",
      "精准率 0.20257700518450747\n",
      "召回率 0.9949654655904135\n",
      "调和平均值F1 0.3366179141035206\n",
      "给定阈值为: 0.4\n",
      "正确率 0.38561666666666666\n",
      "精准率 0.22970856042557358\n",
      "召回率 0.8785678621952234\n",
      "调和平均值F1 0.3641953482756539\n",
      "给定阈值为: 0.5\n",
      "正确率 0.5705333333333333\n",
      "精准率 0.2692669094081917\n",
      "召回率 0.6676999251060997\n",
      "调和平均值F1 0.3837691765015365\n",
      "给定阈值为: 0.6\n",
      "正确率 0.7612416666666667\n",
      "精准率 0.3682287801815172\n",
      "召回率 0.2684114171590247\n",
      "调和平均值F1 0.3104950304430486\n",
      "给定阈值为: 0.7\n",
      "正确率 0.7925875\n",
      "精准率 0.43046411444363164\n",
      "召回率 0.11017724889739536\n",
      "调和平均值F1 0.17544847691772542\n",
      "给定阈值为: 0.8\n",
      "正确率 0.7951458333333333\n",
      "精准率 0.30248469571480013\n",
      "召回率 0.017475243405176002\n",
      "调和平均值F1 0.03304159701052218\n",
      "给定阈值为: 0.9\n",
      "正确率 0.7959333333333334\n",
      "精准率 0.30631399317406144\n",
      "召回率 0.014937172339186153\n",
      "调和平均值F1 0.028485281282234386\n"
     ]
    },
    {
     "data": {
      "image/png": "[encoded data removed]",
      "text/plain": [
       "<Figure size 720x720 with 18 Axes>"
      ]
     },
     "metadata": {},
     "output_type": "display_data"
    }
   ],
   "source": [
    "thresholds = [0.1,0.2,0.3,0.4,0.5,0.6,0.7,0.8,0.9]\n",
    "\n",
    "plt.figure(figsize=(10,10))\n",
    "\n",
    "j = 1\n",
    "\n",
    "y_pred_undersample_proba = prepro\n",
    "# 用混淆矩阵来进行展示\n",
    "for i in thresholds:\n",
    "    y_test_predictions_high_recall = y_pred_undersample_proba[:,1] > i\n",
    "    \n",
    "    plt.subplot(3,3,j)\n",
    "    j += 1\n",
    "\n",
    "    cnf_matrix = confusion_matrix(Y_test,y_test_predictions_high_recall)\n",
    "    np.set_printoptions(precision=2)\n",
    "\n",
    "    print(\"给定阈值为:\",i,)#\"时测试集召回率: \", cnf_matrix[1,1]/(cnf_matrix[1,0]+cnf_matrix[1,1]))\n",
    "    four_scores(Y_test,y_test_predictions_high_recall)\n",
    "    class_names = [0,1]\n",
    "    plot_confusion_matrix(cnf_matrix\n",
    "                          , classes=class_names\n",
    "                          , title='Threshold >= %s'%i)\n",
    "plt.savefig('九个混淆矩阵》png')\n",
    "plt.show()"
   ]
  },
  {
   "cell_type": "code",
   "execution_count": 41,
   "id": "0b1f8711",
   "metadata": {},
   "outputs": [],
   "source": [
    "from sklearn.metrics import accuracy_score   #正确率\n",
    "from sklearn.metrics import precision_score    #精准率\n",
    "from sklearn.metrics import recall_score      #召回率\n",
    "from sklearn.metrics import f1_score         #调和平均值F1\n",
    "def four_scores(Y_test,y_hat):\n",
    "    #默认1类别为正例，可通过pos_label参数指定\n",
    "    print('正确率',accuracy_score(Y_test,y_hat))#样本不均衡时有局限性：都判断为数量多的那一类，结果正确率也很高\n",
    "    print('精准率',precision_score(Y_test,y_hat))\n",
    "    print('召回率',recall_score(Y_test,y_hat))\n",
    "    print('调和平均值F1',f1_score(Y_test,y_hat))"
   ]
  },
  {
   "cell_type": "code",
   "execution_count": 48,
   "id": "8d6c80ed",
   "metadata": {},
   "outputs": [],
   "source": [
    "thresholds=np.linspace(0,1,100)\n",
    "accuracy_scores=[]\n",
    "precision_scores=[]\n",
    "recall_scores=[]\n",
    "f1_scores=[]\n",
    "for i in thresholds:\n",
    "    y_test_predictions_high_recall = y_pred_undersample_proba[:,1] > i\n",
    "\n",
    "    cnf_matrix = confusion_matrix(Y_test,y_test_predictions_high_recall)\n",
    "    np.set_printoptions(precision=2)\n",
    "    \n",
    "    accuracy_scores.append(accuracy_score(Y_test,y_test_predictions_high_recall))\n",
    "    precision_scores.append(precision_score(Y_test,y_test_predictions_high_recall))\n",
    "    recall_scores.append(recall_score(Y_test,y_test_predictions_high_recall))\n",
    "    f1_scores.append(f1_score(Y_test,y_test_predictions_high_recall))"
   ]
  },
  {
   "cell_type": "code",
   "execution_count": 52,
   "id": "6b84804c",
   "metadata": {},
   "outputs": [
    {
     "data": {
      "image/png": "[encoded data removed]",
      "text/plain": [
       "<Figure size 864x360 with 1 Axes>"
      ]
     },
     "metadata": {},
     "output_type": "display_data"
    }
   ],
   "source": [
    "ls1=['正确率','精准率','召回率','调和平均值F1']\n",
    "ls2=[accuracy_scores,precision_scores,recall_scores,f1_scores]\n",
    "\n",
    "plt.figure(figsize=(12,5))\n",
    "for i in range(4):    \n",
    "    plt.plot(thresholds,ls2[i],label=ls1[i])\n",
    "plt.legend()\n",
    "plt.xlabel('阈值')\n",
    "plt.savefig('阈值得分图.png')\n",
    "plt.show()"
   ]
  },
  {
   "cell_type": "code",
   "execution_count": null,
   "id": "209c2694",
   "metadata": {},
   "outputs": [],
   "source": [
    "logreg.score(X_test_std,Y_test)#测试集得分"
   ]
  },
  {
   "cell_type": "markdown",
   "id": "76b901d3",
   "metadata": {},
   "source": [
    "## 查看Logistic回归模型的系数w"
   ]
  },
  {
   "cell_type": "code",
   "execution_count": 24,
   "id": "5d9346b3",
   "metadata": {},
   "outputs": [
    {
     "data": {
      "text/plain": [
       "(1, 55)"
      ]
     },
     "execution_count": 24,
     "metadata": {},
     "output_type": "execute_result"
    }
   ],
   "source": [
    "w=logreg.coef_\n",
    "w.shape"
   ]
  },
  {
   "cell_type": "code",
   "execution_count": 25,
   "id": "ae0e8134",
   "metadata": {},
   "outputs": [
    {
     "data": {
      "text/plain": [
       "array(['loanAmnt', 'term', 'subGrade', 'employmentTitle',\n",
       "       'employmentLength', 'annualIncome', 'postCode', 'regionCode',\n",
       "       'dti', 'delinquency_2years', 'ficoRangeHigh', 'pubRec',\n",
       "       'pubRecBankruptcies', 'revolBal', 'revolUtil', 'initialListStatus',\n",
       "       'applicationType', 'title', 'policyCode', 'n0', 'n6', 'n11', 'n12',\n",
       "       'n13', 'n14', 'CreditLine', '0', '1', '2', '3', '4', '5', '6', '7',\n",
       "       '8', '9', '10', '11', '12', '13', '14', '15', '16', '17', '18',\n",
       "       '19', '20', '21', '22', 'pca1', 'pca2', 'pca3', 'pca4', 'pca5',\n",
       "       'pca6'], dtype=object)"
      ]
     },
     "execution_count": 25,
     "metadata": {},
     "output_type": "execute_result"
    }
   ],
   "source": [
    "train_clean.columns\n",
    "col=np.array(train_clean.columns)\n",
    "col"
   ]
  },
  {
   "cell_type": "code",
   "execution_count": 26,
   "id": "cd57518f",
   "metadata": {},
   "outputs": [
    {
     "data": {
      "text/plain": [
       "{'loanAmnt': 1.4103241863642241e-05,\n",
       " 'term': 0.2522795479825378,\n",
       " 'subGrade': 0.031245797392404455,\n",
       " 'employmentTitle': -5.371683826561805e-07,\n",
       " 'employmentLength': -0.009482167988204978,\n",
       " 'annualIncome': -2.1022500663626047e-06,\n",
       " 'postCode': 0.00011219227415961837,\n",
       " 'regionCode': 0.0001623259398444779,\n",
       " 'dti': 0.01109377367654708,\n",
       " 'delinquency_2years': 0.04662609553303595,\n",
       " 'ficoRangeHigh': -0.005178941060097089,\n",
       " 'pubRec': 0.012822719562703245,\n",
       " 'pubRecBankruptcies': 0.0008185310618220532,\n",
       " 'revolBal': -4.093418755114816e-06,\n",
       " 'revolUtil': -0.00028029766616753334,\n",
       " 'initialListStatus': -0.07206400874184538,\n",
       " 'applicationType': 0.0,\n",
       " 'title': -2.7209983707668694e-06,\n",
       " 'policyCode': 0.0,\n",
       " 'n0': 7.046326546502923e-06,\n",
       " 'n6': 0.014096055602440512,\n",
       " 'n11': 0.0,\n",
       " 'n12': 0.0,\n",
       " 'n13': -0.016760112146357243,\n",
       " 'n14': 0.06132289739438935,\n",
       " 'CreditLine': 0.0029672737854998274,\n",
       " '0': -0.2116821412956303,\n",
       " '1': 0.10632252483321435,\n",
       " '2': 0.0,\n",
       " '3': 0.0,\n",
       " '4': 0.0,\n",
       " '5': 0.0,\n",
       " '6': -0.12028100083566053,\n",
       " '7': 0.0,\n",
       " '8': 0.0,\n",
       " '9': -0.05385781405962675,\n",
       " '10': 0.27457034956028725,\n",
       " '11': 0.0,\n",
       " '12': 0.0,\n",
       " '13': -0.10326573858461426,\n",
       " '14': 0.0,\n",
       " '15': 0.0,\n",
       " '16': 0.0,\n",
       " '17': -0.023377889310501474,\n",
       " '18': 0.04180953140411155,\n",
       " '19': 0.0,\n",
       " '20': 0.0,\n",
       " '21': 0.0,\n",
       " '22': 0.0,\n",
       " 'pca1': -0.005162216378560164,\n",
       " 'pca2': -0.027667009386312683,\n",
       " 'pca3': -0.0039351009766020835,\n",
       " 'pca4': -0.010854211702740323,\n",
       " 'pca5': -0.01071820411651106,\n",
       " 'pca6': -0.0064954010223088115}"
      ]
     },
     "execution_count": 26,
     "metadata": {},
     "output_type": "execute_result"
    }
   ],
   "source": [
    "dic=dict(zip(col,w[0]))\n",
    "dic"
   ]
  },
  {
   "cell_type": "code",
   "execution_count": 27,
   "id": "d81921b2",
   "metadata": {},
   "outputs": [],
   "source": [
    "#下面的是按照value的值从大到小的顺序来排序。\n",
    "dic= sorted(dic.items(), key=lambda d:d[1], reverse = True)\n",
    "dic=pd.DataFrame(dic)"
   ]
  },
  {
   "cell_type": "code",
   "execution_count": 38,
   "id": "648d4592",
   "metadata": {},
   "outputs": [],
   "source": [
    "dic['abs']=dic.iloc[:,1].apply(func=lambda x: abs(x))\n",
    "dic.sort_values(by='abs',ascending=False).head(20).to_csv('temp.csv')"
   ]
  },
  {
   "cell_type": "code",
   "execution_count": null,
   "id": "35f0b564",
   "metadata": {},
   "outputs": [],
   "source": []
  },
  {
   "cell_type": "markdown",
   "id": "93e64257",
   "metadata": {},
   "source": [
    "## 计算混淆矩阵结果"
   ]
  },
  {
   "cell_type": "code",
   "execution_count": 29,
   "id": "e5f0b842",
   "metadata": {},
   "outputs": [
    {
     "data": {
      "text/plain": [
       "array([[104833,  87099],\n",
       "       [ 15973,  32095]], dtype=int64)"
      ]
     },
     "execution_count": 29,
     "metadata": {},
     "output_type": "execute_result"
    }
   ],
   "source": [
    "from sklearn.metrics import confusion_matrix\n",
    "y_hat=logreg.predict(X_test_std)\n",
    "confusion_matrix(y_true=Y_test,y_pred=y_hat)"
   ]
  },
  {
   "cell_type": "code",
   "execution_count": 30,
   "id": "42851aea",
   "metadata": {},
   "outputs": [
    {
     "name": "stdout",
     "output_type": "stream",
     "text": [
      "召回率:  0.6676999251060997\n"
     ]
    },
    {
     "data": {
      "image/png": "[encoded data removed]",
      "text/plain": [
       "<Figure size 432x288 with 2 Axes>"
      ]
     },
     "metadata": {},
     "output_type": "display_data"
    }
   ],
   "source": [
    "import itertools\n",
    "# lr = LogisticRegression(C = best_c, penalty = 'l1')\n",
    "\n",
    "# 计算所需值\n",
    "cnf_matrix = confusion_matrix(Y_test,y_hat)\n",
    "np.set_printoptions(precision=2)\n",
    "\n",
    "print(\"召回率: \", cnf_matrix[1,1]/(cnf_matrix[1,0]+cnf_matrix[1,1]))\n",
    "\n",
    "# 绘制\n",
    "class_names = [0,1]\n",
    "plt.figure()\n",
    "plot_confusion_matrix(cnf_matrix\n",
    "                      , classes=class_names\n",
    "                      , title='Confusion matrix')\n",
    "plt.show()"
   ]
  },
  {
   "cell_type": "code",
   "execution_count": 31,
   "id": "adfad718",
   "metadata": {},
   "outputs": [
    {
     "name": "stdout",
     "output_type": "stream",
     "text": [
      "正确率 0.5705333333333333\n",
      "精准率 0.2692669094081917\n",
      "召回率 0.6676999251060997\n",
      "调和平均值F1 0.3837691765015365\n"
     ]
    }
   ],
   "source": [
    "from sklearn.metrics import accuracy_score   #正确率\n",
    "from sklearn.metrics import precision_score    #精准率\n",
    "from sklearn.metrics import recall_score      #召回率\n",
    "from sklearn.metrics import f1_score         #调和平均值F1\n",
    "def four_scores(Y_test,y_hat):\n",
    "    #默认1类别为正例，可通过pos_label参数指定\n",
    "    print('正确率',accuracy_score(Y_test,y_hat))#样本不均衡时有局限性：都判断为数量多的那一类，结果正确率也很高\n",
    "    print('精准率',precision_score(Y_test,y_hat))\n",
    "    print('召回率',recall_score(Y_test,y_hat))\n",
    "    print('调和平均值F1',f1_score(Y_test,y_hat))\n",
    "four_scores(Y_test,y_hat)"
   ]
  },
  {
   "cell_type": "markdown",
   "id": "bb17e9ce",
   "metadata": {},
   "source": [
    "## ROC曲线"
   ]
  },
  {
   "cell_type": "markdown",
   "id": "640f6dbe",
   "metadata": {},
   "source": [
    "\n",
    "概念：ROC(Receiver Operating Characteristic——受试者工作特征曲线)，使用图形来描述二分类模型的性能表现。\n",
    "\n",
    "TPR：True Positive Rate真正例率，模型预测为真的正例在真实正例的占比=召回率\n",
    "FPR：False Positive Rate假正例率，模型预测为假的正例在真实负例的占比\n",
    "纵轴为TPR，横轴为假正例率"
   ]
  },
  {
   "cell_type": "markdown",
   "id": "8d22eec2",
   "metadata": {},
   "source": [
    "AUC：ROC曲线的面积\n",
    "\n",
    "AUC(Area Under the Curve)：ROC曲线下面积，使用AUC值作为评价标准是因为有时候ROC曲线并不能清晰的说明哪个分类器的效果更好，而AUC作为数值可以直观的评价分类器的好坏，值越大越好。"
   ]
  },
  {
   "cell_type": "code",
   "execution_count": null,
   "id": "7ac4469d",
   "metadata": {},
   "outputs": [],
   "source": []
  },
  {
   "cell_type": "markdown",
   "id": "b766220f",
   "metadata": {},
   "source": [
    "    ROC曲线\n",
    "    roc_curve函数的阈值是返回值，根据提供的模型预测正例概率反推出来的\n",
    "    roc_curve返回三个值，分别是fpr、tpr和阈值；常用三个参数，真实的类别、模型预测为类别1的概率、pos_label=1设置类别1为正例"
   ]
  },
  {
   "cell_type": "code",
   "execution_count": 32,
   "id": "304e52b3",
   "metadata": {},
   "outputs": [
    {
     "name": "stdout",
     "output_type": "stream",
     "text": [
      "fpr值： [0. 0. 0. ... 1. 1. 1.]\n",
      "tpr值： [0.00e+00 2.08e-05 4.16e-05 ... 1.00e+00 1.00e+00 1.00e+00]\n",
      "thresholds值： [1.98 0.98 0.98 ... 0.26 0.26 0.25]\n",
      "AUC面积值： 0.6518671403207071\n",
      "AUC面积得分： 0.6518671403207071\n"
     ]
    }
   ],
   "source": [
    "#ROC曲线\n",
    "from sklearn.metrics import roc_curve\n",
    "#AUC：auc和roc_auc_score都可以得出结果，所需参数不同\n",
    "from sklearn.metrics import auc,roc_auc_score\n",
    "#roc_curve返回三个值，分别是fpr、tpr和阈值；常用三个参数，真实的类别、模型预测为类别1的概率、pos_label=1设置类别1为正例\n",
    "fpr,tpr,thresholds = roc_curve(Y_test,prepro[:,1],pos_label=1)\n",
    "print('fpr值：',fpr)\n",
    "print('tpr值：',tpr)\n",
    "print('thresholds值：',thresholds)\n",
    "#auc函数参数为fpr、tpr\n",
    "print('AUC面积值：',auc(fpr,tpr))\n",
    "#roc_auc_score函数参数为真实类别、模型预测为类别1的概率\n",
    "print('AUC面积得分：',roc_auc_score(y_true=Y_test,y_score=prepro[:,1]))\n"
   ]
  },
  {
   "cell_type": "markdown",
   "id": "292c4a79",
   "metadata": {},
   "source": [
    "绘图ROC曲线"
   ]
  },
  {
   "cell_type": "code",
   "execution_count": 33,
   "id": "2ce5b093",
   "metadata": {},
   "outputs": [
    {
     "data": {
      "image/png": "[encoded data removed]",
      "text/plain": [
       "<Figure size 432x288 with 1 Axes>"
      ]
     },
     "metadata": {},
     "output_type": "display_data"
    }
   ],
   "source": [
    "plt.plot(fpr,tpr,marker='o',label='ROC曲线')\n",
    "plt.plot([0,0,1],[0,1,1],ls='--',label='完美预测')\n",
    "plt.legend()\n",
    "plt.show()"
   ]
  },
  {
   "cell_type": "markdown",
   "id": "03092494",
   "metadata": {},
   "source": [
    "# XGBoost"
   ]
  },
  {
   "cell_type": "code",
   "execution_count": 34,
   "id": "f1b6daaf",
   "metadata": {},
   "outputs": [
    {
     "name": "stdout",
     "output_type": "stream",
     "text": [
      "[16:27:46] WARNING: ..\\src\\learner.cc:1061: Starting in XGBoost 1.3.0, the default evaluation metric used with the objective 'binary:logistic' was changed from 'error' to 'logloss'. Explicitly set eval_metric if you'd like to restore the old behavior.\n"
     ]
    },
    {
     "data": {
      "text/plain": [
       "XGBClassifier(base_score=0.5, booster='gbtree', colsample_bylevel=1,\n",
       "              colsample_bynode=1, colsample_bytree=1, gamma=0, gpu_id=-1,\n",
       "              importance_type='gain', interaction_constraints='',\n",
       "              learning_rate=0.300000012, max_delta_step=0, max_depth=6,\n",
       "              min_child_weight=1, missing=nan, monotone_constraints='()',\n",
       "              n_estimators=100, n_jobs=-1, num_parallel_tree=1, random_state=0,\n",
       "              reg_alpha=0, reg_lambda=1, scale_pos_weight=1, subsample=1,\n",
       "              tree_method='exact', validate_parameters=1, verbosity=None)"
      ]
     },
     "execution_count": 34,
     "metadata": {},
     "output_type": "execute_result"
    }
   ],
   "source": [
    "from xgboost.sklearn import XGBClassifier\n",
    "clf1 = XGBClassifier(n_jobs=-1)\n",
    "clf1.fit(X_train,Y_train)"
   ]
  },
  {
   "cell_type": "code",
   "execution_count": 35,
   "id": "0f47d4a6",
   "metadata": {},
   "outputs": [
    {
     "data": {
      "text/plain": [
       "0.8132839285714286"
      ]
     },
     "execution_count": 35,
     "metadata": {},
     "output_type": "execute_result"
    }
   ],
   "source": [
    "clf1.score(X_train,Y_train)#训练集准确率"
   ]
  },
  {
   "cell_type": "code",
   "execution_count": 22,
   "id": "2525df96",
   "metadata": {},
   "outputs": [
    {
     "data": {
      "text/plain": [
       "0.8041916666666666"
      ]
     },
     "execution_count": 22,
     "metadata": {},
     "output_type": "execute_result"
    }
   ],
   "source": [
    "clf1.score(X_test,Y_test)#测试集准确率"
   ]
  },
  {
   "cell_type": "code",
   "execution_count": 23,
   "id": "e698e199",
   "metadata": {},
   "outputs": [
    {
     "data": {
      "text/plain": [
       "0.7250340708480686"
      ]
     },
     "execution_count": 23,
     "metadata": {},
     "output_type": "execute_result"
    }
   ],
   "source": [
    "# AUC\n",
    "from sklearn.metrics import roc_curve, auc\n",
    "predict_proba = clf1.predict_proba(X_test)\n",
    "false_positive_rate, true_positive_rate, thresholds = roc_curve(Y_test, predict_proba[:,1])\n",
    "auc(false_positive_rate, true_positive_rate)"
   ]
  },
  {
   "cell_type": "code",
   "execution_count": 53,
   "id": "a96cd5cd",
   "metadata": {},
   "outputs": [
    {
     "ename": "TypeError",
     "evalue": "'XGBClassifier' object is not callable",
     "output_type": "error",
     "traceback": [
      "\u001b[1;31m---------------------------------------------------------------------------\u001b[0m",
      "\u001b[1;31mTypeError\u001b[0m                                 Traceback (most recent call last)",
      "\u001b[1;32m<ipython-input-53-1188e5eaf12b>\u001b[0m in \u001b[0;36m<module>\u001b[1;34m\u001b[0m\n\u001b[0;32m      3\u001b[0m \u001b[1;33m\u001b[0m\u001b[0m\n\u001b[0;32m      4\u001b[0m \u001b[1;31m# 计算所需值\u001b[0m\u001b[1;33m\u001b[0m\u001b[1;33m\u001b[0m\u001b[1;33m\u001b[0m\u001b[0m\n\u001b[1;32m----> 5\u001b[1;33m \u001b[0mcnf_matrix\u001b[0m \u001b[1;33m=\u001b[0m \u001b[0mconfusion_matrix\u001b[0m\u001b[1;33m(\u001b[0m\u001b[0mY_test\u001b[0m\u001b[1;33m,\u001b[0m\u001b[0mclf1\u001b[0m\u001b[1;33m(\u001b[0m\u001b[0mX_test\u001b[0m\u001b[1;33m)\u001b[0m\u001b[1;33m)\u001b[0m\u001b[1;33m\u001b[0m\u001b[1;33m\u001b[0m\u001b[0m\n\u001b[0m\u001b[0;32m      6\u001b[0m \u001b[0mnp\u001b[0m\u001b[1;33m.\u001b[0m\u001b[0mset_printoptions\u001b[0m\u001b[1;33m(\u001b[0m\u001b[0mprecision\u001b[0m\u001b[1;33m=\u001b[0m\u001b[1;36m2\u001b[0m\u001b[1;33m)\u001b[0m\u001b[1;33m\u001b[0m\u001b[1;33m\u001b[0m\u001b[0m\n\u001b[0;32m      7\u001b[0m \u001b[1;33m\u001b[0m\u001b[0m\n",
      "\u001b[1;31mTypeError\u001b[0m: 'XGBClassifier' object is not callable"
     ]
    }
   ],
   "source": [
    "import itertools\n",
    "# lr = LogisticRegression(C = best_c, penalty = 'l1')\n",
    "\n",
    "# 计算所需值\n",
    "cnf_matrix = confusion_matrix(Y_test,clf1(X_test))\n",
    "np.set_printoptions(precision=2)\n",
    "\n",
    "print(\"召回率: \", cnf_matrix[1,1]/(cnf_matrix[1,0]+cnf_matrix[1,1]))\n",
    "\n",
    "# 绘制\n",
    "class_names = [0,1]\n",
    "plt.figure()\n",
    "plot_confusion_matrix(cnf_matrix\n",
    "                      , classes=class_names\n",
    "                      , title='Confusion matrix')\n",
    "plt.show()"
   ]
  },
  {
   "cell_type": "code",
   "execution_count": null,
   "id": "b9d11324",
   "metadata": {},
   "outputs": [],
   "source": []
  }
 ],
 "metadata": {
  "kernelspec": {
   "display_name": "Python 3",
   "language": "python",
   "name": "python3"
  },
  "language_info": {
   "codemirror_mode": {
    "name": "ipython",
    "version": 3
   },
   "file_extension": ".py",
   "mimetype": "text/x-python",
   "name": "python",
   "nbconvert_exporter": "python",
   "pygments_lexer": "ipython3",
   "version": "3.8.10"
  },
  "toc": {
   "base_numbering": 1,
   "nav_menu": {},
   "number_sections": true,
   "sideBar": true,
   "skip_h1_title": false,
   "title_cell": "Table of Contents",
   "title_sidebar": "Contents",
   "toc_cell": false,
   "toc_position": {
    "height": "calc(100% - 180px)",
    "left": "10px",
    "top": "150px",
    "width": "201.2px"
   },
   "toc_section_display": true,
   "toc_window_display": true
  },
  "varInspector": {
   "cols": {
    "lenName": 16,
    "lenType": 16,
    "lenVar": 40
   },
   "kernels_config": {
    "python": {
     "delete_cmd_postfix": "",
     "delete_cmd_prefix": "del ",
     "library": "var_list.py",
     "varRefreshCmd": "print(var_dic_list())"
    },
    "r": {
     "delete_cmd_postfix": ") ",
     "delete_cmd_prefix": "rm(",
     "library": "var_list.r",
     "varRefreshCmd": "cat(var_dic_list()) "
    }
   },
   "oldHeight": 336.183666,
   "position": {
    "height": "40px",
    "left": "829px",
    "right": "20px",
    "top": "64px",
    "width": "433.333px"
   },
   "types_to_exclude": [
    "module",
    "function",
    "builtin_function_or_method",
    "instance",
    "_Feature"
   ],
   "varInspector_section_display": "none",
   "window_display": true
  }
 },
 "nbformat": 4,
 "nbformat_minor": 5
}
