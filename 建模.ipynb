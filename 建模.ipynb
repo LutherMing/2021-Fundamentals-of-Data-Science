{
 "cells": [
  {
   "cell_type": "code",
   "execution_count": 2,
   "id": "a0ab8619",
   "metadata": {},
   "outputs": [],
   "source": [
    "import warnings\n",
    "warnings.filterwarnings(\"ignore\")\n",
    "import numpy as np\n",
    "import pandas as pd\n",
    "import matplotlib.pyplot as plt\n",
    "import statsmodels.formula.api as smf\n",
    "from sklearn.model_selection import train_test_split\n",
    "import seaborn as sns\n",
    "plt.style.use('ggplot')"
   ]
  },
  {
   "cell_type": "code",
   "execution_count": 3,
   "id": "cadea0a6",
   "metadata": {},
   "outputs": [],
   "source": [
    "# 声明使用 Seaborn 样式\n",
    "sns.set()\n",
    "# 有五种seaborn的绘图风格，它们分别是：darkgrid, whitegrid, dark, white, ticks。默认的主题是darkgrid。\n",
    "sns.set_style(\"whitegrid\")\n",
    "# 有四个预置的环境，按大小从小到大排列分别为：paper, notebook, talk, poster。其中，notebook是默认的。\n",
    "sns.set_context('notebook')\n",
    "# 中文字体设置-黑体\n",
    "plt.rcParams['font.sans-serif'] = ['Microsoft YaHei']\n",
    "# 解决保存图像是负号'-'显示为方块的问题\n",
    "plt.rcParams['axes.unicode_minus'] = False"
   ]
  },
  {
   "cell_type": "code",
   "execution_count": 4,
   "id": "d40dfce1",
   "metadata": {},
   "outputs": [],
   "source": [
    "label = pd.read_csv('train.csv')['isDefault']"
   ]
  },
  {
   "cell_type": "code",
   "execution_count": 5,
   "id": "b4f56c2b",
   "metadata": {},
   "outputs": [
    {
     "data": {
      "text/html": [
       "<div>\n",
       "<style scoped>\n",
       "    .dataframe tbody tr th:only-of-type {\n",
       "        vertical-align: middle;\n",
       "    }\n",
       "\n",
       "    .dataframe tbody tr th {\n",
       "        vertical-align: top;\n",
       "    }\n",
       "\n",
       "    .dataframe thead th {\n",
       "        text-align: right;\n",
       "    }\n",
       "</style>\n",
       "<table border=\"1\" class=\"dataframe\">\n",
       "  <thead>\n",
       "    <tr style=\"text-align: right;\">\n",
       "      <th></th>\n",
       "      <th>loanAmnt</th>\n",
       "      <th>term</th>\n",
       "      <th>subGrade</th>\n",
       "      <th>employmentTitle</th>\n",
       "      <th>employmentLength</th>\n",
       "      <th>annualIncome</th>\n",
       "      <th>postCode</th>\n",
       "      <th>regionCode</th>\n",
       "      <th>dti</th>\n",
       "      <th>delinquency_2years</th>\n",
       "      <th>...</th>\n",
       "      <th>19</th>\n",
       "      <th>20</th>\n",
       "      <th>21</th>\n",
       "      <th>22</th>\n",
       "      <th>pca1</th>\n",
       "      <th>pca2</th>\n",
       "      <th>pca3</th>\n",
       "      <th>pca4</th>\n",
       "      <th>pca5</th>\n",
       "      <th>pca6</th>\n",
       "    </tr>\n",
       "  </thead>\n",
       "  <tbody>\n",
       "    <tr>\n",
       "      <th>0</th>\n",
       "      <td>35000.0</td>\n",
       "      <td>5</td>\n",
       "      <td>52</td>\n",
       "      <td>320.0</td>\n",
       "      <td>2</td>\n",
       "      <td>110000.0</td>\n",
       "      <td>137.0</td>\n",
       "      <td>32</td>\n",
       "      <td>17.05</td>\n",
       "      <td>0.0</td>\n",
       "      <td>...</td>\n",
       "      <td>0.0</td>\n",
       "      <td>0.0</td>\n",
       "      <td>0.0</td>\n",
       "      <td>0.0</td>\n",
       "      <td>-4.595706</td>\n",
       "      <td>8.694916</td>\n",
       "      <td>-3.188366</td>\n",
       "      <td>-0.169579</td>\n",
       "      <td>2.479239</td>\n",
       "      <td>0.479253</td>\n",
       "    </tr>\n",
       "    <tr>\n",
       "      <th>1</th>\n",
       "      <td>18000.0</td>\n",
       "      <td>5</td>\n",
       "      <td>42</td>\n",
       "      <td>219843.0</td>\n",
       "      <td>5</td>\n",
       "      <td>46000.0</td>\n",
       "      <td>156.0</td>\n",
       "      <td>18</td>\n",
       "      <td>27.83</td>\n",
       "      <td>0.0</td>\n",
       "      <td>...</td>\n",
       "      <td>0.0</td>\n",
       "      <td>0.0</td>\n",
       "      <td>0.0</td>\n",
       "      <td>0.0</td>\n",
       "      <td>-4.937371</td>\n",
       "      <td>-4.775256</td>\n",
       "      <td>1.100548</td>\n",
       "      <td>3.090222</td>\n",
       "      <td>2.760321</td>\n",
       "      <td>1.048221</td>\n",
       "    </tr>\n",
       "    <tr>\n",
       "      <th>2</th>\n",
       "      <td>12000.0</td>\n",
       "      <td>5</td>\n",
       "      <td>43</td>\n",
       "      <td>31698.0</td>\n",
       "      <td>8</td>\n",
       "      <td>74000.0</td>\n",
       "      <td>337.0</td>\n",
       "      <td>14</td>\n",
       "      <td>22.77</td>\n",
       "      <td>0.0</td>\n",
       "      <td>...</td>\n",
       "      <td>0.0</td>\n",
       "      <td>0.0</td>\n",
       "      <td>0.0</td>\n",
       "      <td>0.0</td>\n",
       "      <td>-7.595630</td>\n",
       "      <td>9.302842</td>\n",
       "      <td>9.106804</td>\n",
       "      <td>-0.498371</td>\n",
       "      <td>-2.399446</td>\n",
       "      <td>-0.157931</td>\n",
       "    </tr>\n",
       "    <tr>\n",
       "      <th>3</th>\n",
       "      <td>11000.0</td>\n",
       "      <td>3</td>\n",
       "      <td>14</td>\n",
       "      <td>46854.0</td>\n",
       "      <td>10</td>\n",
       "      <td>118000.0</td>\n",
       "      <td>148.0</td>\n",
       "      <td>11</td>\n",
       "      <td>17.21</td>\n",
       "      <td>0.0</td>\n",
       "      <td>...</td>\n",
       "      <td>0.0</td>\n",
       "      <td>0.0</td>\n",
       "      <td>0.0</td>\n",
       "      <td>0.0</td>\n",
       "      <td>5.034018</td>\n",
       "      <td>1.387625</td>\n",
       "      <td>-9.329300</td>\n",
       "      <td>-1.161320</td>\n",
       "      <td>1.673193</td>\n",
       "      <td>-3.038974</td>\n",
       "    </tr>\n",
       "    <tr>\n",
       "      <th>4</th>\n",
       "      <td>3000.0</td>\n",
       "      <td>3</td>\n",
       "      <td>32</td>\n",
       "      <td>54.0</td>\n",
       "      <td>5</td>\n",
       "      <td>29000.0</td>\n",
       "      <td>301.0</td>\n",
       "      <td>21</td>\n",
       "      <td>32.16</td>\n",
       "      <td>0.0</td>\n",
       "      <td>...</td>\n",
       "      <td>1.0</td>\n",
       "      <td>0.0</td>\n",
       "      <td>0.0</td>\n",
       "      <td>0.0</td>\n",
       "      <td>1.427854</td>\n",
       "      <td>0.503294</td>\n",
       "      <td>2.673627</td>\n",
       "      <td>-1.574145</td>\n",
       "      <td>-5.189906</td>\n",
       "      <td>0.596302</td>\n",
       "    </tr>\n",
       "    <tr>\n",
       "      <th>...</th>\n",
       "      <td>...</td>\n",
       "      <td>...</td>\n",
       "      <td>...</td>\n",
       "      <td>...</td>\n",
       "      <td>...</td>\n",
       "      <td>...</td>\n",
       "      <td>...</td>\n",
       "      <td>...</td>\n",
       "      <td>...</td>\n",
       "      <td>...</td>\n",
       "      <td>...</td>\n",
       "      <td>...</td>\n",
       "      <td>...</td>\n",
       "      <td>...</td>\n",
       "      <td>...</td>\n",
       "      <td>...</td>\n",
       "      <td>...</td>\n",
       "      <td>...</td>\n",
       "      <td>...</td>\n",
       "      <td>...</td>\n",
       "      <td>...</td>\n",
       "    </tr>\n",
       "    <tr>\n",
       "      <th>799995</th>\n",
       "      <td>25000.0</td>\n",
       "      <td>3</td>\n",
       "      <td>34</td>\n",
       "      <td>2659.0</td>\n",
       "      <td>7</td>\n",
       "      <td>72000.0</td>\n",
       "      <td>242.0</td>\n",
       "      <td>8</td>\n",
       "      <td>19.03</td>\n",
       "      <td>0.0</td>\n",
       "      <td>...</td>\n",
       "      <td>0.0</td>\n",
       "      <td>0.0</td>\n",
       "      <td>0.0</td>\n",
       "      <td>0.0</td>\n",
       "      <td>-4.011804</td>\n",
       "      <td>-12.717511</td>\n",
       "      <td>3.177589</td>\n",
       "      <td>-1.372134</td>\n",
       "      <td>-1.961407</td>\n",
       "      <td>-0.117767</td>\n",
       "    </tr>\n",
       "    <tr>\n",
       "      <th>799996</th>\n",
       "      <td>17000.0</td>\n",
       "      <td>3</td>\n",
       "      <td>14</td>\n",
       "      <td>29205.0</td>\n",
       "      <td>10</td>\n",
       "      <td>99000.0</td>\n",
       "      <td>563.0</td>\n",
       "      <td>10</td>\n",
       "      <td>15.72</td>\n",
       "      <td>1.0</td>\n",
       "      <td>...</td>\n",
       "      <td>0.0</td>\n",
       "      <td>0.0</td>\n",
       "      <td>0.0</td>\n",
       "      <td>0.0</td>\n",
       "      <td>9.584216</td>\n",
       "      <td>17.610358</td>\n",
       "      <td>-7.858493</td>\n",
       "      <td>-2.278297</td>\n",
       "      <td>3.161470</td>\n",
       "      <td>-2.628877</td>\n",
       "    </tr>\n",
       "    <tr>\n",
       "      <th>799997</th>\n",
       "      <td>6000.0</td>\n",
       "      <td>3</td>\n",
       "      <td>33</td>\n",
       "      <td>2582.0</td>\n",
       "      <td>10</td>\n",
       "      <td>65000.0</td>\n",
       "      <td>47.0</td>\n",
       "      <td>17</td>\n",
       "      <td>12.11</td>\n",
       "      <td>1.0</td>\n",
       "      <td>...</td>\n",
       "      <td>0.0</td>\n",
       "      <td>0.0</td>\n",
       "      <td>0.0</td>\n",
       "      <td>0.0</td>\n",
       "      <td>-1.109531</td>\n",
       "      <td>15.109610</td>\n",
       "      <td>0.586191</td>\n",
       "      <td>-7.238320</td>\n",
       "      <td>-1.920056</td>\n",
       "      <td>1.976286</td>\n",
       "    </tr>\n",
       "    <tr>\n",
       "      <th>799998</th>\n",
       "      <td>19200.0</td>\n",
       "      <td>3</td>\n",
       "      <td>14</td>\n",
       "      <td>151.0</td>\n",
       "      <td>10</td>\n",
       "      <td>96000.0</td>\n",
       "      <td>34.0</td>\n",
       "      <td>18</td>\n",
       "      <td>29.25</td>\n",
       "      <td>0.0</td>\n",
       "      <td>...</td>\n",
       "      <td>0.0</td>\n",
       "      <td>0.0</td>\n",
       "      <td>0.0</td>\n",
       "      <td>0.0</td>\n",
       "      <td>16.639183</td>\n",
       "      <td>0.088650</td>\n",
       "      <td>0.520932</td>\n",
       "      <td>-0.935709</td>\n",
       "      <td>-0.968637</td>\n",
       "      <td>0.953337</td>\n",
       "    </tr>\n",
       "    <tr>\n",
       "      <th>799999</th>\n",
       "      <td>9000.0</td>\n",
       "      <td>3</td>\n",
       "      <td>23</td>\n",
       "      <td>13.0</td>\n",
       "      <td>5</td>\n",
       "      <td>120000.0</td>\n",
       "      <td>62.0</td>\n",
       "      <td>13</td>\n",
       "      <td>8.99</td>\n",
       "      <td>0.0</td>\n",
       "      <td>...</td>\n",
       "      <td>0.0</td>\n",
       "      <td>0.0</td>\n",
       "      <td>0.0</td>\n",
       "      <td>0.0</td>\n",
       "      <td>-17.269370</td>\n",
       "      <td>0.670056</td>\n",
       "      <td>0.132414</td>\n",
       "      <td>0.983831</td>\n",
       "      <td>-1.482817</td>\n",
       "      <td>-0.302824</td>\n",
       "    </tr>\n",
       "  </tbody>\n",
       "</table>\n",
       "<p>800000 rows × 55 columns</p>\n",
       "</div>"
      ],
      "text/plain": [
       "        loanAmnt  term  subGrade  employmentTitle  employmentLength  \\\n",
       "0        35000.0     5        52            320.0                 2   \n",
       "1        18000.0     5        42         219843.0                 5   \n",
       "2        12000.0     5        43          31698.0                 8   \n",
       "3        11000.0     3        14          46854.0                10   \n",
       "4         3000.0     3        32             54.0                 5   \n",
       "...          ...   ...       ...              ...               ...   \n",
       "799995   25000.0     3        34           2659.0                 7   \n",
       "799996   17000.0     3        14          29205.0                10   \n",
       "799997    6000.0     3        33           2582.0                10   \n",
       "799998   19200.0     3        14            151.0                10   \n",
       "799999    9000.0     3        23             13.0                 5   \n",
       "\n",
       "        annualIncome  postCode  regionCode    dti  delinquency_2years  ...  \\\n",
       "0           110000.0     137.0          32  17.05                 0.0  ...   \n",
       "1            46000.0     156.0          18  27.83                 0.0  ...   \n",
       "2            74000.0     337.0          14  22.77                 0.0  ...   \n",
       "3           118000.0     148.0          11  17.21                 0.0  ...   \n",
       "4            29000.0     301.0          21  32.16                 0.0  ...   \n",
       "...              ...       ...         ...    ...                 ...  ...   \n",
       "799995       72000.0     242.0           8  19.03                 0.0  ...   \n",
       "799996       99000.0     563.0          10  15.72                 1.0  ...   \n",
       "799997       65000.0      47.0          17  12.11                 1.0  ...   \n",
       "799998       96000.0      34.0          18  29.25                 0.0  ...   \n",
       "799999      120000.0      62.0          13   8.99                 0.0  ...   \n",
       "\n",
       "         19   20   21   22       pca1       pca2      pca3      pca4  \\\n",
       "0       0.0  0.0  0.0  0.0  -4.595706   8.694916 -3.188366 -0.169579   \n",
       "1       0.0  0.0  0.0  0.0  -4.937371  -4.775256  1.100548  3.090222   \n",
       "2       0.0  0.0  0.0  0.0  -7.595630   9.302842  9.106804 -0.498371   \n",
       "3       0.0  0.0  0.0  0.0   5.034018   1.387625 -9.329300 -1.161320   \n",
       "4       1.0  0.0  0.0  0.0   1.427854   0.503294  2.673627 -1.574145   \n",
       "...     ...  ...  ...  ...        ...        ...       ...       ...   \n",
       "799995  0.0  0.0  0.0  0.0  -4.011804 -12.717511  3.177589 -1.372134   \n",
       "799996  0.0  0.0  0.0  0.0   9.584216  17.610358 -7.858493 -2.278297   \n",
       "799997  0.0  0.0  0.0  0.0  -1.109531  15.109610  0.586191 -7.238320   \n",
       "799998  0.0  0.0  0.0  0.0  16.639183   0.088650  0.520932 -0.935709   \n",
       "799999  0.0  0.0  0.0  0.0 -17.269370   0.670056  0.132414  0.983831   \n",
       "\n",
       "            pca5      pca6  \n",
       "0       2.479239  0.479253  \n",
       "1       2.760321  1.048221  \n",
       "2      -2.399446 -0.157931  \n",
       "3       1.673193 -3.038974  \n",
       "4      -5.189906  0.596302  \n",
       "...          ...       ...  \n",
       "799995 -1.961407 -0.117767  \n",
       "799996  3.161470 -2.628877  \n",
       "799997 -1.920056  1.976286  \n",
       "799998 -0.968637  0.953337  \n",
       "799999 -1.482817 -0.302824  \n",
       "\n",
       "[800000 rows x 55 columns]"
      ]
     },
     "execution_count": 5,
     "metadata": {},
     "output_type": "execute_result"
    }
   ],
   "source": [
    "train_clean=pd.read_csv('train_clean.csv')#读取清洗过的数据\n",
    "train_clean"
   ]
  },
  {
   "cell_type": "markdown",
   "id": "0c501534",
   "metadata": {},
   "source": [
    "# Logistics Regression"
   ]
  },
  {
   "cell_type": "code",
   "execution_count": 6,
   "id": "39d06531",
   "metadata": {},
   "outputs": [],
   "source": [
    "import numpy as np\n",
    "from sklearn import linear_model, datasets\n",
    "from sklearn.model_selection import train_test_split\n",
    "#from sklearn.cross_validation import train_test_split会报错，\n",
    "#原因在于这个cross_validatio这个包早就不在使用了，划分到了model_selection这个包中。"
   ]
  },
  {
   "cell_type": "markdown",
   "id": "fa6c2457",
   "metadata": {},
   "source": [
    "## 拟合"
   ]
  },
  {
   "cell_type": "code",
   "execution_count": 29,
   "id": "c1e7197e",
   "metadata": {},
   "outputs": [],
   "source": [
    "# 1.加载数据\n",
    "iris = datasets.load_iris()\n",
    "X = train_clean\n",
    "Y = label\n",
    "\n",
    "# 2.拆分测试集、训练集。\n",
    "X_train, X_test, Y_train, Y_test = train_test_split(X, Y, test_size=0.3, random_state=0)# 设置随机数种子，以便比较结果。"
   ]
  },
  {
   "cell_type": "code",
   "execution_count": 7,
   "id": "a1afe465",
   "metadata": {},
   "outputs": [],
   "source": [
    "# 3.标准化特征值\n",
    "from sklearn.preprocessing import StandardScaler\n",
    "sc = StandardScaler()\n",
    "sc.fit(X_train)\n",
    "X_train_std = sc.transform(X_train)\n",
    "X_test_std = sc.transform(X_test)\n",
    "\n",
    "# 4. 训练逻辑回归模型\n",
    "logreg = linear_model.LogisticRegression(C=1e5)\n",
    "logreg.fit(X_train, Y_train)\n",
    "\n",
    "# 5. 预测\n",
    "prepro = logreg.predict_proba(X_test_std)\n"
   ]
  },
  {
   "cell_type": "code",
   "execution_count": 37,
   "id": "dd0af28a",
   "metadata": {},
   "outputs": [
    {
     "data": {
      "text/plain": [
       "0.5864482142857143"
      ]
     },
     "execution_count": 37,
     "metadata": {},
     "output_type": "execute_result"
    }
   ],
   "source": [
    "logreg.score(X_train_std,Y_train)#训练集得分"
   ]
  },
  {
   "cell_type": "code",
   "execution_count": 39,
   "id": "7f6eb64f",
   "metadata": {},
   "outputs": [
    {
     "data": {
      "text/plain": [
       "0.5880375"
      ]
     },
     "execution_count": 39,
     "metadata": {},
     "output_type": "execute_result"
    }
   ],
   "source": [
    "logreg.score(X_test_std,Y_test)#测试集得分"
   ]
  },
  {
   "cell_type": "markdown",
   "id": "767a22be",
   "metadata": {},
   "source": [
    "## 查看Logistic回归模型的系数w"
   ]
  },
  {
   "cell_type": "code",
   "execution_count": 14,
   "id": "5d9346b3",
   "metadata": {},
   "outputs": [
    {
     "data": {
      "text/plain": [
       "(1, 55)"
      ]
     },
     "execution_count": 14,
     "metadata": {},
     "output_type": "execute_result"
    }
   ],
   "source": [
    "w=logreg.coef_\n",
    "w.shape"
   ]
  },
  {
   "cell_type": "code",
   "execution_count": 15,
   "id": "577cdf2e",
   "metadata": {},
   "outputs": [
    {
     "data": {
      "text/plain": [
       "<bound method BaseEstimator.get_params of LogisticRegression(C=100000.0)>"
      ]
     },
     "execution_count": 15,
     "metadata": {},
     "output_type": "execute_result"
    }
   ],
   "source": [
    "logreg.get_params"
   ]
  },
  {
   "cell_type": "code",
   "execution_count": 16,
   "id": "ff6c1103",
   "metadata": {},
   "outputs": [
    {
     "data": {
      "text/plain": [
       "LogisticRegression(C=100000.0)"
      ]
     },
     "execution_count": 16,
     "metadata": {},
     "output_type": "execute_result"
    }
   ],
   "source": [
    "logreg.densify()"
   ]
  },
  {
   "cell_type": "code",
   "execution_count": 17,
   "id": "19fc1018",
   "metadata": {
    "scrolled": true
   },
   "outputs": [
    {
     "data": {
      "text/plain": [
       "LogisticRegression(C=100000.0)"
      ]
     },
     "execution_count": 17,
     "metadata": {},
     "output_type": "execute_result"
    }
   ],
   "source": [
    "logreg.sparsify()"
   ]
  },
  {
   "cell_type": "markdown",
   "id": "9dbd4e74",
   "metadata": {},
   "source": [
    "## 计算混淆矩阵结果"
   ]
  },
  {
   "cell_type": "code",
   "execution_count": 19,
   "id": "7411b933",
   "metadata": {},
   "outputs": [
    {
     "data": {
      "text/plain": [
       "array([[107062,  84870],\n",
       "       [ 14001,  34067]], dtype=int64)"
      ]
     },
     "execution_count": 19,
     "metadata": {},
     "output_type": "execute_result"
    }
   ],
   "source": [
    "from sklearn.metrics import confusion_matrix\n",
    "y_hat=logreg.predict(X_test_std)\n",
    "confusion_matrix(y_true=Y_test,y_pred=y_hat)"
   ]
  },
  {
   "cell_type": "code",
   "execution_count": 20,
   "id": "5e453bc4",
   "metadata": {},
   "outputs": [
    {
     "name": "stdout",
     "output_type": "stream",
     "text": [
      "正确率 0.5880375\n",
      "精准率 0.2864289497801357\n",
      "召回率 0.70872513938587\n",
      "调和平均值F1 0.40797580910751174\n"
     ]
    }
   ],
   "source": [
    "from sklearn.metrics import accuracy_score   #正确率\n",
    "from sklearn.metrics import precision_score    #精准率\n",
    "from sklearn.metrics import recall_score      #召回率\n",
    "from sklearn.metrics import f1_score         #调和平均值F1\n",
    "\n",
    "#默认1类别为正例，可通过pos_label参数指定\n",
    "print('正确率',accuracy_score(Y_test,y_hat))#样本不均衡时有局限性：都判断为数量多的那一类，结果正确率也很高\n",
    "#违约为正样本\n",
    "print('精准率',precision_score(Y_test,y_hat))\n",
    "print('召回率',recall_score(Y_test,y_hat))\n",
    "print('调和平均值F1',f1_score(Y_test,y_hat))"
   ]
  },
  {
   "cell_type": "markdown",
   "id": "a89f5c14",
   "metadata": {},
   "source": [
    "## ROC曲线"
   ]
  },
  {
   "cell_type": "markdown",
   "id": "0cdcbcd8",
   "metadata": {},
   "source": [
    "\n",
    "概念：ROC(Receiver Operating Characteristic——受试者工作特征曲线)，使用图形来描述二分类模型的性能表现。\n",
    "\n",
    "TPR：True Positive Rate真正例率，模型预测为真的正例在真实正例的占比=召回率\n",
    "FPR：False Positive Rate假正例率，模型预测为假的正例在真实负例的占比\n",
    "纵轴为TPR，横轴为假正例率"
   ]
  },
  {
   "cell_type": "markdown",
   "id": "79dc95cf",
   "metadata": {},
   "source": [
    "AUC：ROC曲线的面积\n",
    "\n",
    "AUC(Area Under the Curve)：ROC曲线下面积，使用AUC值作为评价标准是因为有时候ROC曲线并不能清晰的说明哪个分类器的效果更好，而AUC作为数值可以直观的评价分类器的好坏，值越大越好。"
   ]
  },
  {
   "cell_type": "code",
   "execution_count": null,
   "id": "648e1619",
   "metadata": {},
   "outputs": [],
   "source": []
  },
  {
   "cell_type": "markdown",
   "id": "d85b9be5",
   "metadata": {},
   "source": [
    "    ROC曲线\n",
    "    roc_curve函数的阈值是返回值，根据提供的模型预测正例概率反推出来的\n",
    "    roc_curve返回三个值，分别是fpr、tpr和阈值；常用三个参数，真实的类别、模型预测为类别1的概率、pos_label=1设置类别1为正例"
   ]
  },
  {
   "cell_type": "code",
   "execution_count": 24,
   "id": "39a46c89",
   "metadata": {},
   "outputs": [
    {
     "name": "stdout",
     "output_type": "stream",
     "text": [
      "fpr值： [0.00000000e+00 0.00000000e+00 3.12610716e-05 ... 9.99859325e-01\n",
      " 9.99859325e-01 1.00000000e+00]\n",
      "tpr值： [0.00000000e+00 2.08038612e-05 2.08038612e-05 ... 9.99979196e-01\n",
      " 1.00000000e+00 1.00000000e+00]\n",
      "thresholds值： [1.64454744 0.64454744 0.59892134 ... 0.47583432 0.47578311 0.47398802]\n",
      "AUC面积值： 0.6842604187282975\n",
      "AUC面积得分： 0.6842604187282975\n"
     ]
    }
   ],
   "source": [
    "#ROC曲线\n",
    "from sklearn.metrics import roc_curve\n",
    "#AUC：auc和roc_auc_score都可以得出结果，所需参数不同\n",
    "from sklearn.metrics import auc,roc_auc_score\n",
    "#roc_curve返回三个值，分别是fpr、tpr和阈值；常用三个参数，真实的类别、模型预测为类别1的概率、pos_label=1设置类别1为正例\n",
    "fpr,tpr,thresholds = roc_curve(Y_test,prepro[:,1],pos_label=1)\n",
    "print('fpr值：',fpr)\n",
    "print('tpr值：',tpr)\n",
    "print('thresholds值：',thresholds)\n",
    "#auc函数参数为fpr、tpr\n",
    "print('AUC面积值：',auc(fpr,tpr))\n",
    "#roc_auc_score函数参数为真实类别、模型预测为类别1的概率\n",
    "print('AUC面积得分：',roc_auc_score(y_true=Y_test,y_score=prepro[:,1]))\n"
   ]
  },
  {
   "cell_type": "markdown",
   "id": "d4bd77c3",
   "metadata": {},
   "source": [
    "绘图ROC曲线"
   ]
  },
  {
   "cell_type": "code",
   "execution_count": 25,
   "id": "7e95dfff",
   "metadata": {},
   "outputs": [
    {
     "data": {
      "image/png": "[encoded data removed]",
      "text/plain": [
       "<Figure size 432x288 with 1 Axes>"
      ]
     },
     "metadata": {},
     "output_type": "display_data"
    }
   ],
   "source": [
    "plt.plot(fpr,tpr,marker='o',label='ROC曲线')\n",
    "plt.plot([0,0,1],[0,1,1],ls='--',label='完美预测')\n",
    "plt.legend()\n",
    "plt.show()"
   ]
  },
  {
   "cell_type": "markdown",
   "id": "03092494",
   "metadata": {},
   "source": [
    "# XGBoost"
   ]
  },
  {
   "cell_type": "code",
   "execution_count": 33,
   "id": "26a23824",
   "metadata": {},
   "outputs": [
    {
     "name": "stdout",
     "output_type": "stream",
     "text": [
      "[12:51:56] WARNING: ..\\src\\learner.cc:1061: Starting in XGBoost 1.3.0, the default evaluation metric used with the objective 'binary:logistic' was changed from 'error' to 'logloss'. Explicitly set eval_metric if you'd like to restore the old behavior.\n"
     ]
    },
    {
     "data": {
      "text/plain": [
       "XGBClassifier(base_score=0.5, booster='gbtree', colsample_bylevel=1,\n",
       "              colsample_bynode=1, colsample_bytree=1, gamma=0, gpu_id=-1,\n",
       "              importance_type='gain', interaction_constraints='',\n",
       "              learning_rate=0.300000012, max_delta_step=0, max_depth=6,\n",
       "              min_child_weight=1, missing=nan, monotone_constraints='()',\n",
       "              n_estimators=100, n_jobs=-1, num_parallel_tree=1, random_state=0,\n",
       "              reg_alpha=0, reg_lambda=1, scale_pos_weight=1, subsample=1,\n",
       "              tree_method='exact', validate_parameters=1, verbosity=None)"
      ]
     },
     "execution_count": 33,
     "metadata": {},
     "output_type": "execute_result"
    }
   ],
   "source": [
    "from xgboost.sklearn import XGBClassifier\n",
    "clf1 = XGBClassifier(n_jobs=-1)\n",
    "clf1.fit(X_train,Y_train)"
   ]
  },
  {
   "cell_type": "code",
   "execution_count": 36,
   "id": "c0d437e0",
   "metadata": {},
   "outputs": [
    {
     "data": {
      "text/plain": [
       "0.8132839285714286"
      ]
     },
     "execution_count": 36,
     "metadata": {},
     "output_type": "execute_result"
    }
   ],
   "source": [
    "clf1.score(X_train,Y_train)#训练集准确率"
   ]
  },
  {
   "cell_type": "code",
   "execution_count": 34,
   "id": "2525df96",
   "metadata": {},
   "outputs": [
    {
     "data": {
      "text/plain": [
       "0.8041916666666666"
      ]
     },
     "execution_count": 34,
     "metadata": {},
     "output_type": "execute_result"
    }
   ],
   "source": [
    "clf1.score(X_test,Y_test)#测试集准确率"
   ]
  },
  {
   "cell_type": "code",
   "execution_count": 35,
   "id": "e698e199",
   "metadata": {},
   "outputs": [
    {
     "data": {
      "text/plain": [
       "0.7250340708480686"
      ]
     },
     "execution_count": 35,
     "metadata": {},
     "output_type": "execute_result"
    }
   ],
   "source": [
    "# AUC\n",
    "from sklearn.metrics import roc_curve, auc\n",
    "predict_proba = clf1.predict_proba(X_test)\n",
    "false_positive_rate, true_positive_rate, thresholds = roc_curve(Y_test, predict_proba[:,1])\n",
    "auc(false_positive_rate, true_positive_rate)"
   ]
  },
  {
   "cell_type": "code",
   "execution_count": 46,
   "id": "ed16fa30",
   "metadata": {},
   "outputs": [
    {
     "name": "stdout",
     "output_type": "stream",
     "text": [
      "正确率 0.8041916666666666\n",
      "精准率 0.5578913324708926\n",
      "召回率 0.10765998169260214\n",
      "调和平均值F1 0.1804896763392857\n"
     ]
    }
   ],
   "source": [
    "#默认1类别为正例，可通过pos_label参数指定\n",
    "y_hat=clf1.predict(X_test)\n",
    "print('正确率',accuracy_score(Y_test,y_hat))#样本不均衡时有局限性：都判断为数量多的那一类，结果正确率也很高\n",
    "#违约为正样本\n",
    "print('精准率',precision_score(Y_test,y_hat))\n",
    "print('召回率',recall_score(Y_test,y_hat))\n",
    "print('调和平均值F1',f1_score(Y_test,y_hat))"
   ]
  },
  {
   "cell_type": "code",
   "execution_count": 44,
   "id": "0df327df",
   "metadata": {},
   "outputs": [
    {
     "data": {
      "image/png": "[encoded data removed]",
      "text/plain": [
       "<Figure size 432x288 with 1 Axes>"
      ]
     },
     "metadata": {},
     "output_type": "display_data"
    }
   ],
   "source": [
    "from xgboost import plot_importance\n",
    "\n",
    "# 显示重要特征\n",
    "plot_importance(clf1,max_num_features=20,height=1)\n",
    "plt.show()"
   ]
  },
  {
   "cell_type": "code",
   "execution_count": 47,
   "id": "fae04f37",
   "metadata": {},
   "outputs": [],
   "source": [
    "def plot_confusion_matrix(cm, classes,\n",
    "                              title='Confusion matrix',\n",
    "                              cmap=plt.cm.Blues):\n",
    "        \"\"\"\n",
    "        绘制混淆矩阵\n",
    "        \"\"\"\n",
    "        plt.imshow(cm, interpolation='nearest', cmap=cmap)\n",
    "        plt.title(title)\n",
    "        plt.colorbar()\n",
    "        tick_marks = np.arange(len(classes))\n",
    "        plt.xticks(tick_marks, classes, rotation=0)\n",
    "        plt.yticks(tick_marks, classes)\n",
    "\n",
    "        thresh = cm.max() / 2.\n",
    "        for i, j in itertools.product(range(cm.shape[0]), range(cm.shape[1])):\n",
    "            plt.text(j, i, cm[i, j],\n",
    "                     horizontalalignment=\"center\",\n",
    "                     color=\"white\" if cm[i, j] > thresh else \"black\")\n",
    "\n",
    "        plt.tight_layout()\n",
    "        plt.ylabel('True label')\n",
    "        plt.xlabel('Predicted label')"
   ]
  },
  {
   "cell_type": "code",
   "execution_count": 49,
   "id": "2a899cf7",
   "metadata": {},
   "outputs": [
    {
     "name": "stdout",
     "output_type": "stream",
     "text": [
      "召回率:  0.10765998169260214\n"
     ]
    },
    {
     "data": {
      "image/png": "[encoded data removed]",
      "text/plain": [
       "<Figure size 432x288 with 2 Axes>"
      ]
     },
     "metadata": {},
     "output_type": "display_data"
    }
   ],
   "source": [
    "import itertools\n",
    "# lr = LogisticRegression(C = best_c, penalty = 'l1')\n",
    "\n",
    "# 计算所需值\n",
    "cnf_matrix = confusion_matrix(Y_test,clf1.predict(X_test))\n",
    "np.set_printoptions(precision=2)\n",
    "\n",
    "print(\"召回率: \", cnf_matrix[1,1]/(cnf_matrix[1,0]+cnf_matrix[1,1]))\n",
    "\n",
    "# 绘制\n",
    "class_names = [0,1]\n",
    "plt.figure()\n",
    "plot_confusion_matrix(cnf_matrix\n",
    "                      , classes=class_names\n",
    "                      , title='Confusion matrix')\n",
    "plt.show()"
   ]
  },
  {
   "cell_type": "code",
   "execution_count": null,
   "id": "d9fa5440",
   "metadata": {},
   "outputs": [],
   "source": []
  }
 ],
 "metadata": {
  "kernelspec": {
   "display_name": "Python 3",
   "language": "python",
   "name": "python3"
  },
  "language_info": {
   "codemirror_mode": {
    "name": "ipython",
    "version": 3
   },
   "file_extension": ".py",
   "mimetype": "text/x-python",
   "name": "python",
   "nbconvert_exporter": "python",
   "pygments_lexer": "ipython3",
   "version": "3.8.10"
  },
  "toc": {
   "base_numbering": 1,
   "nav_menu": {},
   "number_sections": true,
   "sideBar": true,
   "skip_h1_title": false,
   "title_cell": "Table of Contents",
   "title_sidebar": "Contents",
   "toc_cell": false,
   "toc_position": {
    "height": "calc(100% - 180px)",
    "left": "10px",
    "top": "150px",
    "width": "201.2px"
   },
   "toc_section_display": true,
   "toc_window_display": true
  },
  "varInspector": {
   "cols": {
    "lenName": 16,
    "lenType": 16,
    "lenVar": 40
   },
   "kernels_config": {
    "python": {
     "delete_cmd_postfix": "",
     "delete_cmd_prefix": "del ",
     "library": "var_list.py",
     "varRefreshCmd": "print(var_dic_list())"
    },
    "r": {
     "delete_cmd_postfix": ") ",
     "delete_cmd_prefix": "rm(",
     "library": "var_list.r",
     "varRefreshCmd": "cat(var_dic_list()) "
    }
   },
   "oldHeight": 336.18333399999995,
   "position": {
    "height": "40px",
    "left": "829px",
    "right": "20px",
    "top": "64px",
    "width": "433.333px"
   },
   "types_to_exclude": [
    "module",
    "function",
    "builtin_function_or_method",
    "instance",
    "_Feature"
   ],
   "varInspector_section_display": "none",
   "window_display": true
  }
 },
 "nbformat": 4,
 "nbformat_minor": 5
}
